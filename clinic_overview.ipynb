{
 "cells": [
  {
   "cell_type": "markdown",
   "id": "eba040ec-59d4-4b8a-9493-271cf69af413",
   "metadata": {
    "execution": {
     "iopub.execute_input": "2023-05-06T12:03:28.939679Z",
     "iopub.status.busy": "2023-05-06T12:03:28.939313Z",
     "iopub.status.idle": "2023-05-06T12:03:28.950269Z",
     "shell.execute_reply": "2023-05-06T12:03:28.949539Z",
     "shell.execute_reply.started": "2023-05-06T12:03:28.939656Z"
    }
   },
   "source": [
    "# CSDMS Clinic 1.2\n",
    "## Emerging open-source Python-based infrastructure for scalable,data-proximate analysis and visualization of model output (a.k.a the Pangeo Framework)\n",
    "\n",
    "## Overview\n",
    "\n",
    "* Welcome/ workshop goals (5 min)\n",
    "* [The Pangeo Framework] (10 min) \n",
    "* CONUS404 explorer (10 min)\n",
    "* Create a notebook from scratch looking at data on the Unidata THREDDS Server (10 min)\n",
    "* Exercise: [Xarray in 45 minutes](https://tutorial.xarray.dev/overview/xarray-in-45-min.html) (15 min)\n",
    "* Demo: More with air-temperature! (10 min)\n",
    "  * using [hvplot for visualization](https://hvplot.holoviz.org/#hvplot)\n",
    "  * download air temperature NetCDF file from [xarray examples](https://github.com/pydata/xarray-data)\n",
    "  * open NetCDF file with xarrray\n",
    "  * push to s3 using fsspec\n",
    "  * open from s3 using fsspec \n",
    "\n",
    "* Exercise: Explore data (15 min)\n",
    "  * Use fsspec/hvplot to open some data from one of the AWS, GCS or Azure public datasets (15 min)\n",
    "\n",
    "* Chunking (15 min)\n",
    "  * discussion of chunking/kerchunk\n",
    "  * demonstration of accessing a kerchunked dataset\n",
    "  * return to opening demo of CONUS404 and discuss chunking\n",
    "  \n",
    "* Where to go from here (10 min)\n",
    "  * getting help (pangeo discourse, holoviz discourse, fsspec issues)\n",
    "  * setting up the framework for youself : ESIP Nebari, 2i2c, deploy your own Nebari\n",
    "\n",
    "# Extras \n",
    "* [Kerchunk tutorial](https://github.com/lsterzinger/2022-esip-kerchunk-tutorial)\n",
    "* [Rechunker tutorial](https://rechunker.readthedocs.io/en/latest/tutorial.html)\n",
    "* [Remote sensing examples: Sentinel2 and Landsat](https://github.com/Element84/geo-notebooks)\n",
    "\n",    
    "* [Setting AWS Credentials](https://hytest-org.github.io/hytest/environment_set_up/Help_AWS_Credentials.html)\n"
   ]
  },
  {
   "cell_type": "code",
   "execution_count": null,
   "id": "fdc713be-8794-4e83-a68c-9c9cd69c40b8",
   "metadata": {},
   "outputs": [],
   "source": []
  },
  {
   "cell_type": "code",
   "execution_count": null,
   "id": "fb9f352a-d5ea-49ac-b02a-be1ab6ac610e",
   "metadata": {},
   "outputs": [],
   "source": []
  }
 ],
 "metadata": {
  "kernelspec": {
   "display_name": "users-users-pangeo",
   "language": "python",
   "name": "conda-env-users-users-pangeo-py"
  },
  "language_info": {
   "codemirror_mode": {
    "name": "ipython",
    "version": 3
   },
   "file_extension": ".py",
   "mimetype": "text/x-python",
   "name": "python",
   "nbconvert_exporter": "python",
   "pygments_lexer": "ipython3",
   "version": "3.10.10"
  }
 },
 "nbformat": 4,
 "nbformat_minor": 5
}
