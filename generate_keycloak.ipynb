{
 "cells": [
  {
   "cell_type": "code",
   "execution_count": null,
   "id": "b160b37d-15a2-411c-8092-9c090777b484",
   "metadata": {},
   "outputs": [],
   "source": [
    "import csv\n",
    "import json\n",
    "import uuid\n",
    "import time\n",
    "\n",
    "def update_json_from_csv(csv_file, json_file):\n",
    "    users = []\n",
    "\n",
    "    with open(csv_file, 'r', encoding='utf-8-sig') as csvfile:\n",
    "        reader = csv.DictReader(csvfile)\n",
    "        for row in reader:\n",
    "            user = {\n",
    "                \"id\": str(uuid.uuid4()),\n",
    "                \"createdTimestamp\": int(time.time() * 1000),\n",
    "                \"username\": row[\"email\"],\n",
    "                \"enabled\": True,\n",
    "                \"totp\": False,\n",
    "                \"emailVerified\": False,\n",
    "                \"firstName\": row[\"first_name\"],\n",
    "                \"lastName\": row[\"last_name\"],\n",
    "                \"email\": row[\"email\"],\n",
    "                \"disableableCredentialTypes\": [],\n",
    "                \"requiredActions\": [\n",
    "                    \"UPDATE_PASSWORD\"\n",
    "                ],\n",
    "                \"notBefore\": 0,\n",
    "                \"credentials\": [\n",
    "                    {\n",
    "                        \"type\": \"password\",\n",
    "                        \"value\": \"123\",\n",
    "                    }\n",
    "                ],\n",
    "                \"access\": {\n",
    "                    \"manageGroupMembership\": True,\n",
    "                    \"view\": True,\n",
    "                    \"mapRoles\": True,\n",
    "                    \"impersonate\": True,\n",
    "                    \"manage\": True\n",
    "                },\n",
    "                \"groups\": [\n",
    "                    \"users\"\n",
    "                ]\n",
    "            }\n",
    "            users.append(user)\n",
    "\n",
    "    with open(json_file, 'w') as jsonfile:\n",
    "        json.dump({\"users\": users}, jsonfile, indent=4)\n",
    "\n",
    "# Usage example\n",
    "csv_file = \"clinic3.csv\"\n",
    "json_file = \"clinic3.json\"\n",
    "update_json_from_csv(csv_file, json_file)"
   ]
  }
 ],
 "metadata": {
  "kernelspec": {
   "display_name": "users-users-pangeo",
   "language": "python",
   "name": "conda-env-users-users-pangeo-py"
  },
  "language_info": {
   "codemirror_mode": {
    "name": "ipython",
    "version": 3
   },
   "file_extension": ".py",
   "mimetype": "text/x-python",
   "name": "python",
   "nbconvert_exporter": "python",
   "pygments_lexer": "ipython3",
   "version": "3.10.11"
  },
  "widgets": {
   "application/vnd.jupyter.widget-state+json": {
    "state": {},
    "version_major": 2,
    "version_minor": 0
   }
  }
 },
 "nbformat": 4,
 "nbformat_minor": 5
}
