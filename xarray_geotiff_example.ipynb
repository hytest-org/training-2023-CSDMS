{
 "cells": [
  {
   "cell_type": "markdown",
   "id": "da25c923-1ccc-4cdd-bedd-206e80617179",
   "metadata": {},
   "source": [
    "# Access GeoTIFF data from object storage using Xarray\n",
    "Access data from a Cloud Optimized GeoTIFF (COG) published on the USGS ScienceBase public S3 bucket"
   ]
  },
  {
   "cell_type": "code",
   "execution_count": null,
   "id": "dd3933e6-642c-4979-83a2-f41bc2753e7e",
   "metadata": {
    "tags": []
   },
   "outputs": [],
   "source": [
    "import fsspec\n",
    "import rioxarray as rxr\n",
    "import hvplot.xarray\n",
    "import numpy as np\n",
    "import dask"
   ]
  },
  {
   "cell_type": "code",
   "execution_count": null,
   "id": "f2037662-094e-4a75-ac7e-07b09ee81ed2",
   "metadata": {
    "tags": []
   },
   "outputs": [],
   "source": [
    "s3_url = 's3://prod-is-usgs-sb-prod-publish/618e83cad34ec04fc9caa715/South_Carolina_CoNED_Topobathy_DEM_1m.tif'"
   ]
  },
  {
   "cell_type": "code",
   "execution_count": null,
   "id": "cedfac17-b76f-40d8-92d8-ff260976ae64",
   "metadata": {
    "tags": []
   },
   "outputs": [],
   "source": [
    "https_url = 'https://s3.us-west-2.amazonaws.com/prod-is-usgs-sb-prod-publish/618e83cad34ec04fc9caa715/South_Carolina_CoNED_Topobathy_DEM_1m.tif'"
   ]
  },
  {
   "cell_type": "code",
   "execution_count": null,
   "id": "34be5157-bab1-4f3a-b0e8-2d42136ff429",
   "metadata": {
    "tags": []
   },
   "outputs": [],
   "source": [
    "fs = fsspec.filesystem('s3', anon=True)"
   ]
  },
  {
   "cell_type": "code",
   "execution_count": null,
   "id": "0de631a5-9f3a-46c8-8f00-f41ac1d95ce3",
   "metadata": {
    "tags": []
   },
   "outputs": [],
   "source": [
    "fs.info(s3_url)"
   ]
  },
  {
   "cell_type": "code",
   "execution_count": null,
   "id": "0d884d04-35e3-4dca-be4e-af8c9c0cc5c5",
   "metadata": {
    "tags": []
   },
   "outputs": [],
   "source": [
    "da = rxr.open_rasterio(https_url, overview_level=6, masked=True).squeeze(drop=True)"
   ]
  },
  {
   "cell_type": "code",
   "execution_count": null,
   "id": "59a25212-1e8c-458c-9a4d-79c98a14edb6",
   "metadata": {
    "tags": []
   },
   "outputs": [],
   "source": [
    "da = rxr.open_rasterio(fs.open(s3_url), overview_level=6, masked=True).squeeze(drop=True)"
   ]
  },
  {
   "cell_type": "code",
   "execution_count": null,
   "id": "a5e2b220-3176-4e8b-a131-ad47f0093068",
   "metadata": {
    "tags": []
   },
   "outputs": [],
   "source": [
    "da.hvplot(x='x', y='y', rasterize=True, data_aspect=1)"
   ]
  },
  {
   "cell_type": "code",
   "execution_count": null,
   "id": "c33d0f52-e839-4eab-9cac-7c2478d2a059",
   "metadata": {
    "tags": []
   },
   "outputs": [],
   "source": [
    "da.hvplot(x='x', y='y', rasterize=True, crs='epsg:5703', tiles='OSM', alpha=0.5)"
   ]
  },
  {
   "cell_type": "markdown",
   "id": "aa00bfc8-dd46-4daf-9dae-7c2316243db0",
   "metadata": {},
   "source": [
    "## Process the full resolution data using Dask\n",
    "Tell xarray to use dask by specifying `chunks={}`, loading the data in 2048x2048 chunks"
   ]
  },
  {
   "cell_type": "code",
   "execution_count": null,
   "id": "75cb69c4-5183-4e26-924b-618f5849f718",
   "metadata": {
    "tags": []
   },
   "outputs": [],
   "source": [
    "da = rxr.open_rasterio(https_url, masked=True, chunks={'x':2048, 'y':2048}).squeeze(drop=True)"
   ]
  },
  {
   "cell_type": "code",
   "execution_count": null,
   "id": "74e028f8-a150-4ecd-8468-1aa22c5813d6",
   "metadata": {
    "tags": []
   },
   "outputs": [],
   "source": [
    "da"
   ]
  },
  {
   "cell_type": "code",
   "execution_count": null,
   "id": "5140fe97-823f-4006-b5cb-5f213c392535",
   "metadata": {
    "tags": []
   },
   "outputs": [],
   "source": [
    "%run ./Start_Dask_Cluster_Nebari.ipynb"
   ]
  },
  {
   "cell_type": "code",
   "execution_count": null,
   "id": "5a77d7ee-cbec-4251-afd2-10f21eeaf522",
   "metadata": {
    "tags": []
   },
   "outputs": [],
   "source": [
    "#client.close()"
   ]
  },
  {
   "cell_type": "code",
   "execution_count": null,
   "id": "b319533e-7367-44fe-b7a1-905f9c0c99b3",
   "metadata": {
    "tags": []
   },
   "outputs": [],
   "source": [
    "%%time\n",
    "damax = da.max().compute()"
   ]
  },
  {
   "cell_type": "code",
   "execution_count": null,
   "id": "db9a92fd-ab7f-46b7-ada7-ac05d4ad033e",
   "metadata": {},
   "outputs": [],
   "source": []
  }
 ],
 "metadata": {
  "kernelspec": {
   "display_name": "users-users-pangeo",
   "language": "python",
   "name": "conda-env-users-users-pangeo-py"
  },
  "language_info": {
   "codemirror_mode": {
    "name": "ipython",
    "version": 3
   },
   "file_extension": ".py",
   "mimetype": "text/x-python",
   "name": "python",
   "nbconvert_exporter": "python",
   "pygments_lexer": "ipython3",
   "version": "3.10.10"
  },
  "widgets": {
   "application/vnd.jupyter.widget-state+json": {
    "state": {},
    "version_major": 2,
    "version_minor": 0
   }
  }
 },
 "nbformat": 4,
 "nbformat_minor": 5
}
